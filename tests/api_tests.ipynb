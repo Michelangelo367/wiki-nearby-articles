{
 "metadata": {
  "language_info": {
   "codemirror_mode": {
    "name": "ipython",
    "version": 3
   },
   "file_extension": ".py",
   "mimetype": "text/x-python",
   "name": "python",
   "nbconvert_exporter": "python",
   "pygments_lexer": "ipython3",
   "version": "3.8.5-final"
  },
  "orig_nbformat": 2,
  "kernelspec": {
   "name": "python3",
   "display_name": "Python 3",
   "language": "python"
  }
 },
 "nbformat": 4,
 "nbformat_minor": 2,
 "cells": [
  {
   "cell_type": "code",
   "execution_count": 2,
   "metadata": {},
   "outputs": [
    {
     "output_type": "stream",
     "name": "stdout",
     "text": [
      "['Absolute zero', 'Absorption band', 'Acta Crystallographica A', 'Actinide chemistry', 'Age of the Earth', 'Agricultural chemistry', 'Albert Einstein', 'Allotropes', 'Alpha decay', 'Alpha particles', 'Alpha process', 'Amateur chemistry', 'American Journal of Physics', 'Analytical chemistry', 'Angstrom', 'Angular momentum', 'Annalen der Physik', 'Antielectron', 'Antihydrogen', 'Antimatter', 'Antimuon', 'Antineutrino', 'Antineutron', 'Antiparticle', 'Antiproton', 'Antitau', 'Antonius van den Broek', 'Anyon', 'ArXiv (identifier)', 'Argon', 'Astrochemistry', 'Asymptotic giant branch', 'Atmospheric chemistry', 'Atom (disambiguation)', 'Atom cluster', 'Atom probe', 'Atomic electron transition', 'Atomic mass', 'Atomic mass unit', 'Atomic nucleus', 'Atomic number', 'Atomic orbital', 'Atomic radii of the elements (data page)', 'Atomic radius', 'Atomic spectral line', 'Atomic theory', 'Atomism', 'Auger electron spectroscopy', 'Avogadro constant', 'Axino', 'Axion', 'Azimuthal quantum number', 'B meson', 'Barium', 'Baryogenesis', 'Baryon', 'Baryonic matter', 'Beryllium', 'Beta decay', 'Beta particle', 'Biasing', 'Bibcode (identifier)', 'Big Bang', 'Big Bang nucleosynthesis', 'Binding energy', 'Biocenosis', 'Biochemistry', 'Biogeochemistry', 'Bioinorganic chemistry', 'Biological organisation', 'Biological system', 'Biome', 'Biomolecular complex', 'Biomolecule', 'Bioorganic chemistry', 'Bioorganometallic chemistry', 'Biophysical chemistry', 'Biosphere', 'Biosynthesis', 'Bismuth', 'Bohr model', 'Boron', 'Boron-10', 'Bose-Einstein condensate', 'Boson', 'Botany', 'Bottom antiquark', 'Bottom quark', 'Bound state', 'Brookhaven National Laboratory', 'Brownian motion', 'CERN', 'Cadmium', 'Caesium', 'Carat (unit)', 'Carbochemistry', 'Carbohydrate chemistry', 'Carbon', 'Carbon-12', 'Carbon-14', 'Carbon dioxide', 'Catalysis', 'Cathode ray', 'Cell (biology)', 'Cell biology', 'Center of mass', 'Ceramic chemistry', 'Chalcogen', 'Characterization (materials science)', 'Chargino', 'Charm antiquark', 'Charm quark', 'Chemical biology', 'Chemical bond', 'Chemical compound', 'Chemical element', 'Chemical kinetics', 'Chemical physics', 'Chemical property', 'Chemical reaction', 'Chemical substance', 'Chemical synthesis', 'Chemical thermodynamics', 'Chemistry', 'Chemistry education', 'Chromatography', 'CiteSeerX (identifier)', 'Clandestine chemistry', 'Classical mechanics', 'Classical physics', 'Clay chemistry', 'Click chemistry', 'Clinical chemistry', 'Combinatorial chemistry', 'Computational chemistry', 'Coordination complex', 'Coordination number', 'Copper', 'Core electron', 'Cosmic ray spallation', 'Cosmochemistry', 'Coulomb', 'Coulomb barrier', 'Covalent bond', 'Cryochemistry', 'Crystal', 'Crystal structure', 'Crystal symmetry', 'Crystallization', 'Crystallography', 'Curvaton', 'D meson', 'Dalton (unit)', 'Dark matter', 'Dark photon', 'Darmstadtium', 'Davydov soliton', 'De Broglie hypothesis', 'Delta baryon', 'Density of states', 'Deuterium', 'Diameter', 'Diamond', 'Diatomic molecule', 'Dilaton', 'Dioxygen', 'Diquark', 'Distance', 'Doi (identifier)', 'Don L. Anderson', 'Down antiquark', 'Down quark', 'Dropleton', 'Dual graviton', 'Dynamic covalent chemistry', 'Earth', \"Earth's atmosphere\", 'Ecosystem', 'Eightfold way (physics)', 'Electric charge', 'Electric current', 'Electric field', 'Electrical field', 'Electroanalytical methods', 'Electrochemistry', 'Electromagnetic force', 'Electromagnetic spectrum', 'Electron', 'Electron beam', 'Electron binding energy', 'Electron capture', 'Electron cloud', 'Electron configuration', 'Electron energy loss spectroscopy', 'Electron hole', 'Electron ionization', 'Electron magnetic moment', 'Electron neutrino', 'Electron shell', 'Electronvolt', 'Electrostatic', 'Electrostatic force', 'Electrostatic potential', 'Elementary particle', 'Ellipsoid', 'Emission line', 'Enantioselective synthesis', 'Endeavour (journal)', 'Endothermic reaction', 'Energy level', 'Environmental chemistry', 'Equilibrium chemistry', 'Ernest Marsden', 'Ernest Rutherford', 'Erwin Schrödinger', 'Erwin Wilhelm Müller', 'Eta meson', 'Exchange interaction', 'Excited state', 'Exciton', 'Exothermic reaction', 'Exotic atom', 'Exotic hadron', 'Exotic matter', 'Exponential decay', 'Faddeev–Popov ghost', 'Femtochemistry', 'Femtometre', 'Fermi level', 'Fermion', 'Ferromagnetism', 'Fine structure', 'Flerovium', 'Food chemistry', 'Food physical chemistry', 'Forensic chemistry', 'Foundations of Physics', 'Francis William Aston', 'Frederick Soddy', 'Frequency', 'Fullerene chemistry', 'GND (identifier)', 'Gamma decay', 'Gamma ray', 'Gas', 'Gas-discharge lamp', 'Gas chromatography', 'Gauge boson', 'Gaugino', 'Geiger–Marsden experiment', 'General chemistry', 'Geneva', 'Geochemistry', 'Ghost (physics)', 'Gilbert Newton Lewis', 'Glossary of chemical formulae', 'Glueball', 'Gluino', 'Gluon', 'Goddard Space Flight Center', 'Gold', 'Graphite', 'Graviphoton', 'Gravitino', 'Graviton', 'Green chemistry', 'Ground state', 'Group theory', 'H2g2', 'Hadron', 'Half-life', 'Hans Geiger', 'Helium', 'Helium-3', 'Henry Moseley', 'Heptaquark', 'Hexaquark', 'Higgs boson', 'Higgsino', 'High-performance liquid chromatography', 'History of chemistry', 'History of quantum mechanics', 'History of subatomic physics', 'Hydrogen', 'Hydrogen-1', 'Hydrogen-2', 'Hydrogen-like atom', 'Hydrogen atom', 'Hydrostatic equilibrium', 'Hyperpolarization (physics)', 'Hypothetical particles', 'ISBN (identifier)', 'IUPAC books', 'Identical particles', 'Imperial College', 'Inductively coupled plasma atomic emission spectroscopy', 'Inductively coupled plasma mass spectrometry', 'Infinite divisibility', 'Inflaton', 'Infrared spectroscopy', 'Inorganic chemistry', 'Instrumental chemistry', 'Interface and colloid science', 'Internal conversion', 'International Union of Pure and Applied Chemistry', 'Interstellar medium', 'Invariant mass', 'Inverse proportion', 'Ion', 'Ionic crystal', 'Ionization potential', 'Ionized', 'Ionized gas', 'Iron', 'Iron(II) oxide', 'Iron(III) oxide', 'Iron oxide', 'Irving Langmuir', 'Island of stability', 'Isotope', 'Isotope separation', 'Isotopes of hydrogen', 'J.A. Panitz', 'J.J. Thomson', 'J. J. Thomson', 'J/psi meson', 'James Chadwick', 'Jean Perrin', 'John Dalton', 'John Wiley & Sons', 'Journal of the American Chemical Society', 'Kaon', 'Kinetic theory of gases', 'LCCN (identifier)', 'Lambda baryon', 'Lanthanum-138', 'Laser', 'Law of multiple proportions', 'Lawrence Berkeley National Laboratory', 'Lead', 'Lepton', 'Leptoquark', 'Light', 'Limit at infinity', 'Liquid', 'Lise Meitner', 'List of baryons', 'List of basic chemistry topics', 'List of biomolecules', 'List of elements by stability of isotopes', 'List of inorganic compounds', 'List of mesons', 'List of nuclides', 'List of particles', 'List of quasiparticles', 'Lithium', 'Lithium-6', 'Local Bubble', 'Louis de Broglie', 'Macromolecule', 'Magnetic field', 'Magnetic moment', 'Magnetic monopole', 'Magnetic resonance imaging', 'Magnetochemistry', 'Magnon', 'Majorana fermion', 'Majoron', 'Margaret Todd (doctor)', 'Mass', 'Mass-energy equivalence', 'Mass-to-charge ratio', 'Mass number', 'Mass spectrometry', 'Massless particle', 'Materials science', 'Mathematical chemistry', 'Mathematical formulation of the Standard Model', 'Matrix-assisted laser desorption/ionization', 'Matrix mechanics', 'Matter', 'Medicinal chemistry', 'Meson', 'Mesonic molecule', 'Metal', 'Metallurgy', 'Micromeritics', 'Milky Way', 'Miller index', 'Minimum', 'Mole (unit)', 'Molecular biology', 'Molecular cloud', 'Molecule', 'Momentum', 'Monthly Notices of the Royal Astronomical Society', 'Motion', 'Muon', 'Muon neutrino', 'Muonic atom', 'Muonium', 'NASA', 'NDL (identifier)', 'Nanochemistry', 'Nanometre', 'Nature (journal)', 'Nebula', 'Negative number', 'Neon', 'Neptunium', 'Neurochemistry', 'Neutralino', 'Neutrino', 'Neutron', 'Neutron capture', 'Neutron star', 'Nickel', 'Niels Bohr', 'Nitric oxide', 'Nitrogen', 'Nitrogen-14', 'Nitrogen dioxide', 'Nitrous oxide', 'Nobel Foundation', 'Nobel Prize in Chemistry', 'Noble gas', 'Nuclear Physics A', 'Nuclear binding energy', 'Nuclear charge', 'Nuclear chemistry', 'Nuclear decay', 'Nuclear fission', 'Nuclear force', 'Nuclear fusion', 'Nuclear magnetic moment', 'Nuclear magnetic resonance spectroscopy', 'Nuclear model', 'Nuclear physics', 'Nuclear shell model', 'Nuclear transmutation', 'Nucleon', 'Nucleosynthesis', 'Nuclide', 'OCLC (identifier)', 'OSTI (identifier)', 'Observable Universe', 'Ocean chemistry', 'Oganesson', 'Omega baryon', 'Onium', 'Optical microscope', 'Organ (anatomy)', 'Organelle', 'Organic chemistry', 'Organic compounds', 'Organic reaction', 'Organism', 'Organolanthanide chemistry', 'Organometallic chemistry', 'Otto Frisch', 'Otto Hahn', 'Oxford University Press', 'Oxide', 'Oxygen', 'Ozone', 'PMC (identifier)', 'PMID (identifier)', 'Paramagnetism', 'Particle', 'Particle accelerator', 'Particle chauvinism', 'Particle detector', 'Particle physics', 'Pauli exclusion principle', 'Pentaquark', 'Periodic law', 'Periodic table', 'Petrochemistry', 'Pharmacology', 'Phase (matter)', 'Phi meson', 'Philosophical Magazine', 'Phonon', 'Photino', 'Photochemistry', 'Photoelectric effect', 'Photon', 'Physica Scripta', 'Physical Review', 'Physical chemistry', 'Physical inorganic chemistry', 'Physical object', 'Physical organic chemistry', 'Physics Today', 'Picometer', 'Picometre', 'Pion', 'Pionium', 'Planck constant', 'Planck particle']\n"
     ]
    }
   ],
   "source": []
  },
  {
   "cell_type": "code",
   "execution_count": null,
   "metadata": {},
   "outputs": [],
   "source": []
  },
  {
   "cell_type": "code",
   "execution_count": null,
   "metadata": {},
   "outputs": [],
   "source": []
  }
 ]
}